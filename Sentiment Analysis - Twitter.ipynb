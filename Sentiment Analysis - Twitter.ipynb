{
 "cells": [
  {
   "cell_type": "markdown",
   "id": "1bf975a9",
   "metadata": {},
   "source": [
    "# Importing Libraries"
   ]
  },
  {
   "cell_type": "code",
   "execution_count": null,
   "id": "815d4415",
   "metadata": {},
   "outputs": [],
   "source": [
    "import re\n",
    "import tweepy as tw\n",
    "import matplotlib.pyplot as plt\n",
    "import pandas as pd\n",
    "import numpy as np"
   ]
  },
  {
   "cell_type": "markdown",
   "id": "9fe6abdb",
   "metadata": {},
   "source": [
    "# Authenticate to Twitter"
   ]
  },
  {
   "cell_type": "code",
   "execution_count": null,
   "id": "d293b32b",
   "metadata": {},
   "outputs": [],
   "source": [
    "consumer_key = ''\n",
    "consumer_secret = ''\n",
    "access_token = ''\n",
    "access_token_secret = ''"
   ]
  },
  {
   "cell_type": "code",
   "execution_count": null,
   "id": "fb399f68",
   "metadata": {},
   "outputs": [],
   "source": [
    "auth = tw.OAuthHandler(consumer_key, consumer_secret)\n",
    "auth.set_access_token(access_token, access_token_secret)\n",
    "api = tw.API(auth, wait_on_rate_limit=True)"
   ]
  },
  {
   "cell_type": "markdown",
   "id": "e4b05d20",
   "metadata": {},
   "source": [
    "# Get Tweets"
   ]
  },
  {
   "cell_type": "code",
   "execution_count": null,
   "id": "f198f66f",
   "metadata": {},
   "outputs": [],
   "source": [
    "hashtag = \"#Windows11\"\n",
    "query = tw.Cursor(api.search_tweets, q=hashtag).items(2000)\n",
    "tweets = [{'Tweet':tweet.text} for tweet in query]"
   ]
  },
  {
   "cell_type": "markdown",
   "id": "794a698b",
   "metadata": {},
   "source": [
    "# Preprocessing Tweets"
   ]
  },
  {
   "cell_type": "code",
   "execution_count": null,
   "id": "b42855ae",
   "metadata": {},
   "outputs": [],
   "source": [
    "df = pd.DataFrame.from_dict(tweets)\n",
    "df"
   ]
  },
  {
   "cell_type": "code",
   "execution_count": null,
   "id": "c32fa3e8",
   "metadata": {},
   "outputs": [],
   "source": [
    "# Import stopwords\n",
    "import nltk\n",
    "from nltk.corpus import stopwords\n",
    "\n",
    "# Import textblob\n",
    "from textblob import Word, TextBlob"
   ]
  },
  {
   "cell_type": "code",
   "execution_count": null,
   "id": "decbd6e6",
   "metadata": {},
   "outputs": [],
   "source": [
    "nltk.download('stopwords')\n",
    "nltk.download('wordnet')\n",
    "stop_words = stopwords.words('english')\n",
    "custom_stopwords = ['RT', '#Windows11']"
   ]
  },
  {
   "cell_type": "code",
   "execution_count": null,
   "id": "9b25df0d",
   "metadata": {},
   "outputs": [],
   "source": [
    "def preprocess_tweets(tweet):\n",
    "    processed_tweet = tweet\n",
    "    processed_tweet.replace('[^\\w\\s]', '')\n",
    "    processed_tweet = \" \".join(word for word in processed_tweet.split() if word not in stop_words)\n",
    "    processed_tweet = \" \".join(word for word in processed_tweet.split() if word not in custom_stopwords)\n",
    "    processed_tweet = \" \".join(Word(word).lemmatize() for word in processed_tweet.split())\n",
    "    processed_tweet = re.sub(\"[h]+[t]+[t]+[p]+[s]+[a-zA-Z0-9:_.\\/\\/]+\",\"\",processed_tweet)\n",
    "    processed_tweet = re.sub(\"[@]+[a-zA-Z0-9:_.]+\",\"\",processed_tweet)\n",
    "    return(processed_tweet)\n",
    "\n",
    "df['Processed Tweet'] = df['Tweet'].apply(lambda x: preprocess_tweets(x))\n",
    "df.head()"
   ]
  },
  {
   "cell_type": "code",
   "execution_count": null,
   "id": "39b75f9b",
   "metadata": {},
   "outputs": [],
   "source": [
    "df2 = df.drop_duplicates('Processed Tweet', keep='last')"
   ]
  },
  {
   "cell_type": "markdown",
   "id": "6c4ba775",
   "metadata": {},
   "source": [
    "# Calculate Polarity"
   ]
  },
  {
   "cell_type": "code",
   "execution_count": null,
   "id": "6d5e38dc",
   "metadata": {},
   "outputs": [],
   "source": [
    "df2['polarity'] = df2['Processed Tweet'].apply(lambda x: TextBlob(x).sentiment[0])"
   ]
  },
  {
   "cell_type": "code",
   "execution_count": null,
   "id": "2e225884",
   "metadata": {},
   "outputs": [],
   "source": [
    "df2.head()"
   ]
  },
  {
   "cell_type": "code",
   "execution_count": null,
   "id": "2e86e77e",
   "metadata": {},
   "outputs": [],
   "source": [
    "def sentiment_tweets(pol):\n",
    "    sent = \"\"\n",
    "    if pol > 0.1:\n",
    "        sent = \"Positive\"\n",
    "    elif pol < -0.1:\n",
    "        sent = \"Negative\"\n",
    "    else:\n",
    "        sent = \"Neutral\"\n",
    "    return(sent)\n",
    "\n",
    "df2['sentiment'] = df2['polarity'].apply(lambda x: sentiment_tweets(x))\n",
    "df2.head()"
   ]
  },
  {
   "cell_type": "code",
   "execution_count": null,
   "id": "099492f1",
   "metadata": {},
   "outputs": [],
   "source": [
    "pos = df2['sentiment'].value_counts()['Positive']\n",
    "neg = df2['sentiment'].value_counts()['Negative']\n",
    "neut = df2['sentiment'].value_counts()['Neutral']\n",
    "print('Positive \\t:',pos,'\\nNegative \\t:',neg,'\\nNeutral \\t:',neut)"
   ]
  },
  {
   "cell_type": "markdown",
   "id": "1ca7d499",
   "metadata": {},
   "source": [
    "# Visualize"
   ]
  },
  {
   "cell_type": "code",
   "execution_count": null,
   "id": "41fdf4d4",
   "metadata": {},
   "outputs": [],
   "source": [
    "data = [pos, neg, neut]\n",
    "labels = ['Positive_tweets','Negative_tweets','Neutral_tweets']\n",
    "plt.xticks(range(len(data)), labels)\n",
    "plt.xlabel('Sentiment')\n",
    "plt.ylabel('Number of Tweets')\n",
    "plt.title('Sentiment Analysis')\n",
    "plt.bar(range(len(data)), data)\n",
    "plt.grid(color='#95a5a6', linestyle='--', linewidth=2, axis='y', alpha=0.7)\n",
    "plt.show()\n",
    "plt.show()"
   ]
  },
  {
   "cell_type": "code",
   "execution_count": null,
   "id": "19214875",
   "metadata": {},
   "outputs": [],
   "source": [
    "df2.to_csv('/sentiment_analysis_output.csv')"
   ]
  },
  {
   "cell_type": "code",
   "execution_count": null,
   "id": "cc243426",
   "metadata": {},
   "outputs": [],
   "source": []
  }
 ],
 "metadata": {
  "kernelspec": {
   "display_name": "Python 3 (ipykernel)",
   "language": "python",
   "name": "python3"
  },
  "language_info": {
   "codemirror_mode": {
    "name": "ipython",
    "version": 3
   },
   "file_extension": ".py",
   "mimetype": "text/x-python",
   "name": "python",
   "nbconvert_exporter": "python",
   "pygments_lexer": "ipython3",
   "version": "3.9.7"
  }
 },
 "nbformat": 4,
 "nbformat_minor": 5
}
