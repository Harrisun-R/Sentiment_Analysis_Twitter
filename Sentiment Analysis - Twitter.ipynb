{
 "cells": [
  {
   "cell_type": "markdown",
   "id": "1bf975a9",
   "metadata": {},
   "source": [
    "# Importing Libraries"
   ]
  },
  {
   "cell_type": "code",
   "execution_count": 1,
   "id": "815d4415",
   "metadata": {},
   "outputs": [],
   "source": [
    "import re\n",
    "import tweepy as tw\n",
    "import matplotlib.pyplot as plt\n",
    "import pandas as pd\n",
    "import numpy as np"
   ]
  },
  {
   "cell_type": "markdown",
   "id": "9fe6abdb",
   "metadata": {},
   "source": [
    "# Authenticate to Twitter"
   ]
  },
  {
   "cell_type": "code",
   "execution_count": 2,
   "id": "d293b32b",
   "metadata": {},
   "outputs": [],
   "source": [
    "consumer_key = ''\n",
    "consumer_secret = ''\n",
    "access_token = ''\n",
    "access_token_secret = ''"
   ]
  },
  {
   "cell_type": "code",
   "execution_count": 5,
   "id": "fb399f68",
   "metadata": {},
   "outputs": [],
   "source": [
    "auth = tw.OAuthHandler(consumer_key, consumer_secret)\n",
    "auth.set_access_token(access_token, access_token_secret)\n",
    "api = tw.API(auth, wait_on_rate_limit=True)"
   ]
  },
  {
   "cell_type": "markdown",
   "id": "e4b05d20",
   "metadata": {},
   "source": [
    "# Get Tweets"
   ]
  },
  {
   "cell_type": "code",
   "execution_count": 7,
   "id": "f198f66f",
   "metadata": {},
   "outputs": [],
   "source": [
    "hashtag = \"#Windows11\"\n",
    "query = tw.Cursor(api.search_tweets, q=hashtag).items(2000)\n",
    "tweets = [{'Tweet':tweet.text} for tweet in query]"
   ]
  },
  {
   "cell_type": "markdown",
   "id": "794a698b",
   "metadata": {},
   "source": [
    "# Preprocessing Tweets"
   ]
  },
  {
   "cell_type": "code",
   "execution_count": 8,
   "id": "b42855ae",
   "metadata": {},
   "outputs": [
    {
     "data": {
      "text/html": [
       "<div>\n",
       "<style scoped>\n",
       "    .dataframe tbody tr th:only-of-type {\n",
       "        vertical-align: middle;\n",
       "    }\n",
       "\n",
       "    .dataframe tbody tr th {\n",
       "        vertical-align: top;\n",
       "    }\n",
       "\n",
       "    .dataframe thead th {\n",
       "        text-align: right;\n",
       "    }\n",
       "</style>\n",
       "<table border=\"1\" class=\"dataframe\">\n",
       "  <thead>\n",
       "    <tr style=\"text-align: right;\">\n",
       "      <th></th>\n",
       "      <th>Tweet</th>\n",
       "    </tr>\n",
       "  </thead>\n",
       "  <tbody>\n",
       "    <tr>\n",
       "      <th>0</th>\n",
       "      <td>RT @AccessITAutomat: #Microsoft shares fix for...</td>\n",
       "    </tr>\n",
       "    <tr>\n",
       "      <th>1</th>\n",
       "      <td>#Microsoft shares fix for broken #Outlook sear...</td>\n",
       "    </tr>\n",
       "    <tr>\n",
       "      <th>2</th>\n",
       "      <td>📣#StarWind_handy\\nTop Features in #Windows11 🪟...</td>\n",
       "    </tr>\n",
       "    <tr>\n",
       "      <th>3</th>\n",
       "      <td>Windows11にしてからWin+Xのメニューにショートカットキーが表示されず機能もせず、...</td>\n",
       "    </tr>\n",
       "    <tr>\n",
       "      <th>4</th>\n",
       "      <td>This shit is comically pathetic.\\n\\n#Microsoft...</td>\n",
       "    </tr>\n",
       "    <tr>\n",
       "      <th>...</th>\n",
       "      <td>...</td>\n",
       "    </tr>\n",
       "    <tr>\n",
       "      <th>1995</th>\n",
       "      <td>RT @ASUSJapan: プロの高度なパフォーマンスを\\nさらに究めたい人へ。\\n「Pr...</td>\n",
       "    </tr>\n",
       "    <tr>\n",
       "      <th>1996</th>\n",
       "      <td>RT @Shawn_Brink_MVP: KB5008918 Cumulative Upda...</td>\n",
       "    </tr>\n",
       "    <tr>\n",
       "      <th>1997</th>\n",
       "      <td>明日（12/5）までの特価商品に時間があるので、\\n#富士通 U939/B に噂の #Win...</td>\n",
       "    </tr>\n",
       "    <tr>\n",
       "      <th>1998</th>\n",
       "      <td>RT @MicrosoftMEA: Always have something to pla...</td>\n",
       "    </tr>\n",
       "    <tr>\n",
       "      <th>1999</th>\n",
       "      <td>Vanmiddag eens rondneuzen voor een nieuwe lapt...</td>\n",
       "    </tr>\n",
       "  </tbody>\n",
       "</table>\n",
       "<p>2000 rows × 1 columns</p>\n",
       "</div>"
      ],
      "text/plain": [
       "                                                  Tweet\n",
       "0     RT @AccessITAutomat: #Microsoft shares fix for...\n",
       "1     #Microsoft shares fix for broken #Outlook sear...\n",
       "2     📣#StarWind_handy\\nTop Features in #Windows11 🪟...\n",
       "3     Windows11にしてからWin+Xのメニューにショートカットキーが表示されず機能もせず、...\n",
       "4     This shit is comically pathetic.\\n\\n#Microsoft...\n",
       "...                                                 ...\n",
       "1995  RT @ASUSJapan: プロの高度なパフォーマンスを\\nさらに究めたい人へ。\\n「Pr...\n",
       "1996  RT @Shawn_Brink_MVP: KB5008918 Cumulative Upda...\n",
       "1997  明日（12/5）までの特価商品に時間があるので、\\n#富士通 U939/B に噂の #Win...\n",
       "1998  RT @MicrosoftMEA: Always have something to pla...\n",
       "1999  Vanmiddag eens rondneuzen voor een nieuwe lapt...\n",
       "\n",
       "[2000 rows x 1 columns]"
      ]
     },
     "execution_count": 8,
     "metadata": {},
     "output_type": "execute_result"
    }
   ],
   "source": [
    "df = pd.DataFrame.from_dict(tweets)\n",
    "df"
   ]
  },
  {
   "cell_type": "code",
   "execution_count": 9,
   "id": "c32fa3e8",
   "metadata": {},
   "outputs": [],
   "source": [
    "# Import stopwords\n",
    "import nltk\n",
    "from nltk.corpus import stopwords\n",
    "\n",
    "# Import textblob\n",
    "from textblob import Word, TextBlob"
   ]
  },
  {
   "cell_type": "code",
   "execution_count": 10,
   "id": "decbd6e6",
   "metadata": {},
   "outputs": [
    {
     "name": "stderr",
     "output_type": "stream",
     "text": [
      "[nltk_data] Downloading package stopwords to\n",
      "[nltk_data]     /Users/harrisunrajmohan/nltk_data...\n",
      "[nltk_data]   Package stopwords is already up-to-date!\n",
      "[nltk_data] Downloading package wordnet to\n",
      "[nltk_data]     /Users/harrisunrajmohan/nltk_data...\n",
      "[nltk_data]   Package wordnet is already up-to-date!\n"
     ]
    }
   ],
   "source": [
    "nltk.download('stopwords')\n",
    "nltk.download('wordnet')\n",
    "stop_words = stopwords.words('english')\n",
    "custom_stopwords = ['RT', '#Windows11']"
   ]
  },
  {
   "cell_type": "code",
   "execution_count": 11,
   "id": "9b25df0d",
   "metadata": {},
   "outputs": [
    {
     "data": {
      "text/html": [
       "<div>\n",
       "<style scoped>\n",
       "    .dataframe tbody tr th:only-of-type {\n",
       "        vertical-align: middle;\n",
       "    }\n",
       "\n",
       "    .dataframe tbody tr th {\n",
       "        vertical-align: top;\n",
       "    }\n",
       "\n",
       "    .dataframe thead th {\n",
       "        text-align: right;\n",
       "    }\n",
       "</style>\n",
       "<table border=\"1\" class=\"dataframe\">\n",
       "  <thead>\n",
       "    <tr style=\"text-align: right;\">\n",
       "      <th></th>\n",
       "      <th>Tweet</th>\n",
       "      <th>Processed Tweet</th>\n",
       "    </tr>\n",
       "  </thead>\n",
       "  <tbody>\n",
       "    <tr>\n",
       "      <th>0</th>\n",
       "      <td>RT @AccessITAutomat: #Microsoft shares fix for...</td>\n",
       "      <td>#Microsoft share fix broken #Outlook search</td>\n",
       "    </tr>\n",
       "    <tr>\n",
       "      <th>1</th>\n",
       "      <td>#Microsoft shares fix for broken #Outlook sear...</td>\n",
       "      <td>#Microsoft share fix broken #Outlook search</td>\n",
       "    </tr>\n",
       "    <tr>\n",
       "      <th>2</th>\n",
       "      <td>📣#StarWind_handy\\nTop Features in #Windows11 🪟...</td>\n",
       "      <td>📣#StarWind_handy Top Features 🪟🖥️ Read article...</td>\n",
       "    </tr>\n",
       "    <tr>\n",
       "      <th>3</th>\n",
       "      <td>Windows11にしてからWin+Xのメニューにショートカットキーが表示されず機能もせず、...</td>\n",
       "      <td>Windows11にしてからWin+Xのメニューにショートカットキーが表示されず機能もせず、...</td>\n",
       "    </tr>\n",
       "    <tr>\n",
       "      <th>4</th>\n",
       "      <td>This shit is comically pathetic.\\n\\n#Microsoft...</td>\n",
       "      <td>This shit comically pathetic. #Microsoft #NotT...</td>\n",
       "    </tr>\n",
       "  </tbody>\n",
       "</table>\n",
       "</div>"
      ],
      "text/plain": [
       "                                               Tweet  \\\n",
       "0  RT @AccessITAutomat: #Microsoft shares fix for...   \n",
       "1  #Microsoft shares fix for broken #Outlook sear...   \n",
       "2  📣#StarWind_handy\\nTop Features in #Windows11 🪟...   \n",
       "3  Windows11にしてからWin+Xのメニューにショートカットキーが表示されず機能もせず、...   \n",
       "4  This shit is comically pathetic.\\n\\n#Microsoft...   \n",
       "\n",
       "                                     Processed Tweet  \n",
       "0      #Microsoft share fix broken #Outlook search    \n",
       "1      #Microsoft share fix broken #Outlook search    \n",
       "2  📣#StarWind_handy Top Features 🪟🖥️ Read article...  \n",
       "3  Windows11にしてからWin+Xのメニューにショートカットキーが表示されず機能もせず、...  \n",
       "4  This shit comically pathetic. #Microsoft #NotT...  "
      ]
     },
     "execution_count": 11,
     "metadata": {},
     "output_type": "execute_result"
    }
   ],
   "source": [
    "def preprocess_tweets(tweet):\n",
    "    processed_tweet = tweet\n",
    "    processed_tweet.replace('[^\\w\\s]', '')\n",
    "    processed_tweet = \" \".join(word for word in processed_tweet.split() if word not in stop_words)\n",
    "    processed_tweet = \" \".join(word for word in processed_tweet.split() if word not in custom_stopwords)\n",
    "    processed_tweet = \" \".join(Word(word).lemmatize() for word in processed_tweet.split())\n",
    "    processed_tweet = re.sub(\"[h]+[t]+[t]+[p]+[s]+[a-zA-Z0-9:_.\\/\\/]+\",\"\",processed_tweet)\n",
    "    processed_tweet = re.sub(\"[@]+[a-zA-Z0-9:_.]+\",\"\",processed_tweet)\n",
    "    return(processed_tweet)\n",
    "\n",
    "df['Processed Tweet'] = df['Tweet'].apply(lambda x: preprocess_tweets(x))\n",
    "df.head()"
   ]
  },
  {
   "cell_type": "code",
   "execution_count": 12,
   "id": "39b75f9b",
   "metadata": {},
   "outputs": [],
   "source": [
    "df2 = df.drop_duplicates('Processed Tweet', keep='last')"
   ]
  },
  {
   "cell_type": "markdown",
   "id": "6c4ba775",
   "metadata": {},
   "source": [
    "# Calculate Polarity"
   ]
  },
  {
   "cell_type": "code",
   "execution_count": 13,
   "id": "6d5e38dc",
   "metadata": {},
   "outputs": [
    {
     "name": "stderr",
     "output_type": "stream",
     "text": [
      "/var/folders/vw/181_kcnx2wdf7cfw178s0yhc0000gn/T/ipykernel_51078/2584331904.py:1: SettingWithCopyWarning: \n",
      "A value is trying to be set on a copy of a slice from a DataFrame.\n",
      "Try using .loc[row_indexer,col_indexer] = value instead\n",
      "\n",
      "See the caveats in the documentation: https://pandas.pydata.org/pandas-docs/stable/user_guide/indexing.html#returning-a-view-versus-a-copy\n",
      "  df2['polarity'] = df2['Processed Tweet'].apply(lambda x: TextBlob(x).sentiment[0])\n"
     ]
    }
   ],
   "source": [
    "df2['polarity'] = df2['Processed Tweet'].apply(lambda x: TextBlob(x).sentiment[0])"
   ]
  },
  {
   "cell_type": "code",
   "execution_count": 14,
   "id": "2e225884",
   "metadata": {},
   "outputs": [
    {
     "data": {
      "text/html": [
       "<div>\n",
       "<style scoped>\n",
       "    .dataframe tbody tr th:only-of-type {\n",
       "        vertical-align: middle;\n",
       "    }\n",
       "\n",
       "    .dataframe tbody tr th {\n",
       "        vertical-align: top;\n",
       "    }\n",
       "\n",
       "    .dataframe thead th {\n",
       "        text-align: right;\n",
       "    }\n",
       "</style>\n",
       "<table border=\"1\" class=\"dataframe\">\n",
       "  <thead>\n",
       "    <tr style=\"text-align: right;\">\n",
       "      <th></th>\n",
       "      <th>Tweet</th>\n",
       "      <th>Processed Tweet</th>\n",
       "      <th>polarity</th>\n",
       "    </tr>\n",
       "  </thead>\n",
       "  <tbody>\n",
       "    <tr>\n",
       "      <th>2</th>\n",
       "      <td>📣#StarWind_handy\\nTop Features in #Windows11 🪟...</td>\n",
       "      <td>📣#StarWind_handy Top Features 🪟🖥️ Read article...</td>\n",
       "      <td>0.378788</td>\n",
       "    </tr>\n",
       "    <tr>\n",
       "      <th>3</th>\n",
       "      <td>Windows11にしてからWin+Xのメニューにショートカットキーが表示されず機能もせず、...</td>\n",
       "      <td>Windows11にしてからWin+Xのメニューにショートカットキーが表示されず機能もせず、...</td>\n",
       "      <td>0.000000</td>\n",
       "    </tr>\n",
       "    <tr>\n",
       "      <th>4</th>\n",
       "      <td>This shit is comically pathetic.\\n\\n#Microsoft...</td>\n",
       "      <td>This shit comically pathetic. #Microsoft #NotT...</td>\n",
       "      <td>-0.600000</td>\n",
       "    </tr>\n",
       "    <tr>\n",
       "      <th>5</th>\n",
       "      <td>Alguém que já instalou o #Windows11 indica? Ou...</td>\n",
       "      <td>Alguém que já instalou indica? Ou melhor deixa...</td>\n",
       "      <td>0.000000</td>\n",
       "    </tr>\n",
       "    <tr>\n",
       "      <th>6</th>\n",
       "      <td>GREAT NEWS!!! THE SAVINGS CONTINUE!!! We are e...</td>\n",
       "      <td>GREAT NEWS!!! THE SAVINGS CONTINUE!!! We exten...</td>\n",
       "      <td>1.000000</td>\n",
       "    </tr>\n",
       "  </tbody>\n",
       "</table>\n",
       "</div>"
      ],
      "text/plain": [
       "                                               Tweet  \\\n",
       "2  📣#StarWind_handy\\nTop Features in #Windows11 🪟...   \n",
       "3  Windows11にしてからWin+Xのメニューにショートカットキーが表示されず機能もせず、...   \n",
       "4  This shit is comically pathetic.\\n\\n#Microsoft...   \n",
       "5  Alguém que já instalou o #Windows11 indica? Ou...   \n",
       "6  GREAT NEWS!!! THE SAVINGS CONTINUE!!! We are e...   \n",
       "\n",
       "                                     Processed Tweet  polarity  \n",
       "2  📣#StarWind_handy Top Features 🪟🖥️ Read article...  0.378788  \n",
       "3  Windows11にしてからWin+Xのメニューにショートカットキーが表示されず機能もせず、...  0.000000  \n",
       "4  This shit comically pathetic. #Microsoft #NotT... -0.600000  \n",
       "5  Alguém que já instalou indica? Ou melhor deixa...  0.000000  \n",
       "6  GREAT NEWS!!! THE SAVINGS CONTINUE!!! We exten...  1.000000  "
      ]
     },
     "execution_count": 14,
     "metadata": {},
     "output_type": "execute_result"
    }
   ],
   "source": [
    "df2.head()"
   ]
  },
  {
   "cell_type": "code",
   "execution_count": 15,
   "id": "2e86e77e",
   "metadata": {},
   "outputs": [
    {
     "name": "stderr",
     "output_type": "stream",
     "text": [
      "/var/folders/vw/181_kcnx2wdf7cfw178s0yhc0000gn/T/ipykernel_51078/1344299464.py:11: SettingWithCopyWarning: \n",
      "A value is trying to be set on a copy of a slice from a DataFrame.\n",
      "Try using .loc[row_indexer,col_indexer] = value instead\n",
      "\n",
      "See the caveats in the documentation: https://pandas.pydata.org/pandas-docs/stable/user_guide/indexing.html#returning-a-view-versus-a-copy\n",
      "  df2['sentiment'] = df2['polarity'].apply(lambda x: sentiment_tweets(x))\n"
     ]
    },
    {
     "data": {
      "text/html": [
       "<div>\n",
       "<style scoped>\n",
       "    .dataframe tbody tr th:only-of-type {\n",
       "        vertical-align: middle;\n",
       "    }\n",
       "\n",
       "    .dataframe tbody tr th {\n",
       "        vertical-align: top;\n",
       "    }\n",
       "\n",
       "    .dataframe thead th {\n",
       "        text-align: right;\n",
       "    }\n",
       "</style>\n",
       "<table border=\"1\" class=\"dataframe\">\n",
       "  <thead>\n",
       "    <tr style=\"text-align: right;\">\n",
       "      <th></th>\n",
       "      <th>Tweet</th>\n",
       "      <th>Processed Tweet</th>\n",
       "      <th>polarity</th>\n",
       "      <th>sentiment</th>\n",
       "    </tr>\n",
       "  </thead>\n",
       "  <tbody>\n",
       "    <tr>\n",
       "      <th>2</th>\n",
       "      <td>📣#StarWind_handy\\nTop Features in #Windows11 🪟...</td>\n",
       "      <td>📣#StarWind_handy Top Features 🪟🖥️ Read article...</td>\n",
       "      <td>0.378788</td>\n",
       "      <td>Positive</td>\n",
       "    </tr>\n",
       "    <tr>\n",
       "      <th>3</th>\n",
       "      <td>Windows11にしてからWin+Xのメニューにショートカットキーが表示されず機能もせず、...</td>\n",
       "      <td>Windows11にしてからWin+Xのメニューにショートカットキーが表示されず機能もせず、...</td>\n",
       "      <td>0.000000</td>\n",
       "      <td>Neutral</td>\n",
       "    </tr>\n",
       "    <tr>\n",
       "      <th>4</th>\n",
       "      <td>This shit is comically pathetic.\\n\\n#Microsoft...</td>\n",
       "      <td>This shit comically pathetic. #Microsoft #NotT...</td>\n",
       "      <td>-0.600000</td>\n",
       "      <td>Negative</td>\n",
       "    </tr>\n",
       "    <tr>\n",
       "      <th>5</th>\n",
       "      <td>Alguém que já instalou o #Windows11 indica? Ou...</td>\n",
       "      <td>Alguém que já instalou indica? Ou melhor deixa...</td>\n",
       "      <td>0.000000</td>\n",
       "      <td>Neutral</td>\n",
       "    </tr>\n",
       "    <tr>\n",
       "      <th>6</th>\n",
       "      <td>GREAT NEWS!!! THE SAVINGS CONTINUE!!! We are e...</td>\n",
       "      <td>GREAT NEWS!!! THE SAVINGS CONTINUE!!! We exten...</td>\n",
       "      <td>1.000000</td>\n",
       "      <td>Positive</td>\n",
       "    </tr>\n",
       "  </tbody>\n",
       "</table>\n",
       "</div>"
      ],
      "text/plain": [
       "                                               Tweet  \\\n",
       "2  📣#StarWind_handy\\nTop Features in #Windows11 🪟...   \n",
       "3  Windows11にしてからWin+Xのメニューにショートカットキーが表示されず機能もせず、...   \n",
       "4  This shit is comically pathetic.\\n\\n#Microsoft...   \n",
       "5  Alguém que já instalou o #Windows11 indica? Ou...   \n",
       "6  GREAT NEWS!!! THE SAVINGS CONTINUE!!! We are e...   \n",
       "\n",
       "                                     Processed Tweet  polarity sentiment  \n",
       "2  📣#StarWind_handy Top Features 🪟🖥️ Read article...  0.378788  Positive  \n",
       "3  Windows11にしてからWin+Xのメニューにショートカットキーが表示されず機能もせず、...  0.000000   Neutral  \n",
       "4  This shit comically pathetic. #Microsoft #NotT... -0.600000  Negative  \n",
       "5  Alguém que já instalou indica? Ou melhor deixa...  0.000000   Neutral  \n",
       "6  GREAT NEWS!!! THE SAVINGS CONTINUE!!! We exten...  1.000000  Positive  "
      ]
     },
     "execution_count": 15,
     "metadata": {},
     "output_type": "execute_result"
    }
   ],
   "source": [
    "def sentiment_tweets(pol):\n",
    "    sent = \"\"\n",
    "    if pol > 0.1:\n",
    "        sent = \"Positive\"\n",
    "    elif pol < -0.1:\n",
    "        sent = \"Negative\"\n",
    "    else:\n",
    "        sent = \"Neutral\"\n",
    "    return(sent)\n",
    "\n",
    "df2['sentiment'] = df2['polarity'].apply(lambda x: sentiment_tweets(x))\n",
    "df2.head()"
   ]
  },
  {
   "cell_type": "code",
   "execution_count": 16,
   "id": "099492f1",
   "metadata": {},
   "outputs": [
    {
     "name": "stdout",
     "output_type": "stream",
     "text": [
      "Positive \t: 279 \n",
      "Negative \t: 96 \n",
      "Neutral \t: 908\n"
     ]
    }
   ],
   "source": [
    "pos = df2['sentiment'].value_counts()['Positive']\n",
    "neg = df2['sentiment'].value_counts()['Negative']\n",
    "neut = df2['sentiment'].value_counts()['Neutral']\n",
    "print('Positive \\t:',pos,'\\nNegative \\t:',neg,'\\nNeutral \\t:',neut)"
   ]
  },
  {
   "cell_type": "markdown",
   "id": "1ca7d499",
   "metadata": {},
   "source": [
    "# Visualize"
   ]
  },
  {
   "cell_type": "code",
   "execution_count": 17,
   "id": "41fdf4d4",
   "metadata": {},
   "outputs": [
    {
     "data": {
      "image/png": "[encoded data removed]",
      "text/plain": [
       "<Figure size 432x288 with 1 Axes>"
      ]
     },
     "metadata": {
      "needs_background": "light"
     },
     "output_type": "display_data"
    }
   ],
   "source": [
    "data = [pos, neg, neut]\n",
    "labels = ['Positive_tweets','Negative_tweets','Neutral_tweets']\n",
    "plt.xticks(range(len(data)), labels)\n",
    "plt.xlabel('Sentiment')\n",
    "plt.ylabel('Number of Tweets')\n",
    "plt.title('Sentiment Analysis')\n",
    "plt.bar(range(len(data)), data)\n",
    "plt.grid(color='#95a5a6', linestyle='--', linewidth=2, axis='y', alpha=0.7)\n",
    "plt.show()\n",
    "plt.show()"
   ]
  },
  {
   "cell_type": "code",
   "execution_count": 18,
   "id": "19214875",
   "metadata": {},
   "outputs": [],
   "source": [
    "df2.to_csv('/Users/harrisunrajmohan/Documents/Data_Driven_Product_Management/DDPM/Resources_from_Faculty/Exam_03/Codes/sentiment_analysis_output.csv')"
   ]
  },
  {
   "cell_type": "code",
   "execution_count": null,
   "id": "cc243426",
   "metadata": {},
   "outputs": [],
   "source": []
  }
 ],
 "metadata": {
  "kernelspec": {
   "display_name": "Python 3 (ipykernel)",
   "language": "python",
   "name": "python3"
  },
  "language_info": {
   "codemirror_mode": {
    "name": "ipython",
    "version": 3
   },
   "file_extension": ".py",
   "mimetype": "text/x-python",
   "name": "python",
   "nbconvert_exporter": "python",
   "pygments_lexer": "ipython3",
   "version": "3.9.7"
  }
 },
 "nbformat": 4,
 "nbformat_minor": 5
}
